{
 "cells": [
  {
   "cell_type": "markdown",
   "id": "2beb76ba",
   "metadata": {},
   "source": [
    "\n",
    "<font size=\"12\">**Spike cross-correlation demo**</font>"
   ]
  },
  {
   "cell_type": "markdown",
   "id": "005ced9a",
   "metadata": {},
   "source": [
    "Intro ... what paper to cite\n",
    "\n",
    "\n",
    "References: \n",
    "\n",
    "    1. Garofalo, M., Nieus, T., Massobrio, P., and Martinoia, S. (2009). Evaluation of the Performance of Information Theory-Based Methods and Cross-Correlation to Estimate the Functional Connectivity in Cortical Networks. PLoS ONE 4, e6482. doi: 10.1371/journal.pone.0006482.\n",
    "    \n",
    "    2. Nieus, T., D’Andrea, V., Amin, H., Di Marco, S., Safaai, H., Maccione, A., et al. (2018). State-dependent representation of stimulus-evoked activity in high-density recordings of neural cultures. Sci Rep 8, 5578. doi: 10.1038/s41598-018-23853-x."
   ]
  },
  {
   "cell_type": "code",
   "execution_count": 17,
   "id": "12e7a3e1",
   "metadata": {},
   "outputs": [],
   "source": [
    "import numpy as np\n",
    "import pylab as plt"
   ]
  },
  {
   "cell_type": "code",
   "execution_count": 18,
   "id": "4557f60c",
   "metadata": {},
   "outputs": [],
   "source": [
    "import spike_cross_corr as scc"
   ]
  },
  {
   "cell_type": "markdown",
   "id": "b378a943",
   "metadata": {},
   "source": [
    "# Load data and perform some preliminary analysis"
   ]
  },
  {
   "cell_type": "code",
   "execution_count": 19,
   "id": "2ed88f19",
   "metadata": {},
   "outputs": [
    {
     "name": "stdout",
     "output_type": "stream",
     "text": [
      "793 spike trains loaded \n",
      "max time of recording (s) 565.398 \n"
     ]
    }
   ],
   "source": [
    "fn = 'data/data.npy'\n",
    "spk_trains_tmp, id_ch_tmp, tmax = scc.load_data(fn)\n",
    "tmax /= 1000 # tmax in seconds\n",
    "print('%d spike trains loaded ' % len(spk_trains_tmp))\n",
    "print('max time of recording (s) %g ' %tmax)"
   ]
  },
  {
   "cell_type": "markdown",
   "id": "9f461c08",
   "metadata": {},
   "source": [
    "## Filter data."
   ]
  },
  {
   "cell_type": "code",
   "execution_count": 20,
   "id": "b9062ac2",
   "metadata": {},
   "outputs": [
    {
     "name": "stdout",
     "output_type": "stream",
     "text": [
      "793 spike trains retained \n"
     ]
    }
   ],
   "source": [
    "mfr_min = 0.1 # Hz\n",
    "spk_trains, id_ch = [], []\n",
    "mfr_lst = []\n",
    "for st, ic in zip(spk_trains_tmp, id_ch_tmp):\n",
    "    mfr = len(st) / tmax  # Hz    \n",
    "    if mfr > mfr_min:\n",
    "        # spike train has enough spikes\n",
    "        spk_trains.append(st)\n",
    "        id_ch.append(ic)\n",
    "        mfr_lst.append(mfr)\n",
    "print('%d spike trains retained ' % len(spk_trains))        "
   ]
  },
  {
   "cell_type": "markdown",
   "id": "90bcb498",
   "metadata": {},
   "source": [
    "## Report distribution of mean firing rates."
   ]
  },
  {
   "cell_type": "code",
   "execution_count": 21,
   "id": "78ce5a33",
   "metadata": {},
   "outputs": [
    {
     "data": {
      "image/png": "[encoded data removed]",
      "text/plain": [
       "<Figure size 432x288 with 1 Axes>"
      ]
     },
     "metadata": {
      "needs_background": "light"
     },
     "output_type": "display_data"
    }
   ],
   "source": [
    "plt.boxplot(mfr_lst, whis=[5, 95])\n",
    "plt.xticks([])\n",
    "plt.ylabel('mean firing rate (Hz)', fontsize=12);"
   ]
  },
  {
   "cell_type": "markdown",
   "id": "a833f7f8",
   "metadata": {},
   "source": [
    "# Compute spike cross-correlation"
   ]
  },
  {
   "cell_type": "code",
   "execution_count": 22,
   "id": "782d4881",
   "metadata": {},
   "outputs": [],
   "source": [
    "# Format data to run cross-correlation procedure.\n",
    "idx_spk_tr, len_spk_tr = scc.format_spike_train(spk_trains)"
   ]
  },
  {
   "cell_type": "code",
   "execution_count": 23,
   "id": "0b08eb77",
   "metadata": {},
   "outputs": [
    {
     "name": "stdout",
     "output_type": "stream",
     "text": [
      "cross-corr computed in 107.984 seconds\n"
     ]
    }
   ],
   "source": [
    "n_jobs = 4\n",
    "cc_lst, idx_sd, tcc = scc.run_cross_par(idx_spk_tr, len_spk_tr, n_jobs=n_jobs)"
   ]
  },
  {
   "cell_type": "markdown",
   "id": "9e640b11",
   "metadata": {},
   "source": [
    "## Analyze the correlations"
   ]
  },
  {
   "cell_type": "code",
   "execution_count": 24,
   "id": "ea4ff147",
   "metadata": {},
   "outputs": [],
   "source": [
    "# Define some useful functions\n",
    "\n",
    "def get_row_col(id_ch):\n",
    "    \"\"\"Return row and column of channel id_ch.\"\"\"\n",
    "    row = id_ch // 64\n",
    "    col = id_ch % 64    \n",
    "    return row, col\n",
    "\n",
    "def chan_dist(rc_src, rc_dst):\n",
    "    \"\"\"Compute distance between two channels/electrodes.\"\"\"\n",
    "    pitch = 80 # um\n",
    "    d2 = (rc_src[0] - rc_dst[0])**2 + (rc_src[1] - rc_dst[1])**2\n",
    "    d = np.sqrt(d2) * pitch\n",
    "    return d"
   ]
  },
  {
   "cell_type": "code",
   "execution_count": 25,
   "id": "d7405bfa",
   "metadata": {},
   "outputs": [],
   "source": [
    "cc_max = np.zeros(len(cc_lst))\n",
    "for k, cc in enumerate(cc_lst):\n",
    "    cc_max[k] = np.max(cc)\n",
    "idx_rank = np.argsort(cc_max)[::-1] # from highest to lowest"
   ]
  },
  {
   "cell_type": "code",
   "execution_count": 35,
   "id": "56e1ad24",
   "metadata": {},
   "outputs": [],
   "source": [
    "num_links = 30"
   ]
  },
  {
   "cell_type": "code",
   "execution_count": 36,
   "id": "bf1b8aa8",
   "metadata": {},
   "outputs": [
    {
     "name": "stdout",
     "output_type": "stream",
     "text": [
      "distance (um), t(cc_peak) (ms), cc_peak, velocity (mm/s)\n",
      "80, 0, 0.393688, 1e+10\n",
      "80, 0.5, 0.393072, 160\n",
      "252.982, 1.5, 0.233971, 168.655\n",
      "288.444, -0.5, 0.232833, -576.888\n",
      "80, 0, 0.134928, 1e+10\n",
      "288.444, 0.5, 0.133242, 576.888\n",
      "4882.62, -2.5, 0.1322, -1953.05\n",
      "80, 0, 0.126762, 1e+10\n",
      "80, 0, 0.124308, 1e+10\n",
      "80, 0, 0.123967, 1e+10\n",
      "80, 0, 0.118173, 1e+10\n",
      "80, 0, 0.116482, 1e+10\n",
      "80, 0, 0.112668, 1e+10\n",
      "80, 0, 0.109528, 1e+10\n",
      "160, -0.5, 0.108382, -320\n",
      "252.982, 0, 0.10065, 1e+10\n",
      "329.848, -0.5, 0.100296, -659.697\n",
      "80, 0, 0.100277, 1e+10\n",
      "339.411, 1, 0.100149, 339.411\n",
      "226.274, -2, 0.0990451, -113.137\n",
      "113.137, 0, 0.0987811, 1e+10\n",
      "80, 1.5, 0.0987806, 53.3333\n",
      "113.137, -1, 0.0954465, -113.137\n",
      "113.137, -0.5, 0.095289, -226.274\n",
      "80, 0, 0.0936, 1e+10\n",
      "80, 0, 0.0890192, 1e+10\n",
      "80, -0.5, 0.0880698, -160\n",
      "357.771, 0.5, 0.0876601, 715.542\n",
      "80, 0.5, 0.0867529, 160\n",
      "113.137, -0.5, 0.0862085, -226.274\n"
     ]
    }
   ],
   "source": [
    "print('distance (um), t(cc_peak) (ms), cc_peak, velocity (mm/s)')\n",
    "for count in range(num_links):\n",
    "    idx_choose = idx_rank[count]\n",
    "    idx_max = np.argmax(cc_lst[idx_choose])\n",
    "    t_peak = tcc[idx_max]\n",
    "    # \n",
    "    idx_src, idx_dst = idx_sd[idx_choose]\n",
    "    # get row/col from id_ch\n",
    "    rc_src = get_row_col(id_ch[idx_src])\n",
    "    rc_dst = get_row_col(id_ch[idx_dst])\n",
    "    dist = chan_dist(rc_src, rc_dst)\n",
    "    if t_peak:\n",
    "        vel = dist / t_peak  # um / ms = mm/s\n",
    "    else:\n",
    "        vel = 1e10\n",
    "    print('%g, %g, %g, %g' % (dist, t_peak, cc_max[idx_choose], vel))"
   ]
  },
  {
   "cell_type": "code",
   "execution_count": null,
   "id": "6ff5297b",
   "metadata": {},
   "outputs": [],
   "source": [
    "\"\"\"\n",
    "plt.plot(tcc, cc_lst[idx_choose], c='k', lw=2)\n",
    "src, dst = idx_sd[idx_choose]\n",
    "plt.title('%d -> %d' % (src, dst), fontsize=14)\n",
    "plt.grid()\n",
    "plt.xticks(fontsize=12)\n",
    "plt.yticks(fontsize=12)\n",
    "plt.xlabel('time lag (ms)', fontsize=14)\n",
    "plt.ylabel('cross correlation', fontsize=14);\n",
    "\"\"\""
   ]
  }
 ],
 "metadata": {
  "hide_input": false,
  "kernelspec": {
   "display_name": "Python 3 (ipykernel)",
   "language": "python",
   "name": "python3"
  },
  "language_info": {
   "codemirror_mode": {
    "name": "ipython",
    "version": 3
   },
   "file_extension": ".py",
   "mimetype": "text/x-python",
   "name": "python",
   "nbconvert_exporter": "python",
   "pygments_lexer": "ipython3",
   "version": "3.9.7"
  },
  "toc": {
   "base_numbering": 1,
   "nav_menu": {},
   "number_sections": true,
   "sideBar": true,
   "skip_h1_title": false,
   "title_cell": "Table of Contents",
   "title_sidebar": "Contents",
   "toc_cell": false,
   "toc_position": {},
   "toc_section_display": true,
   "toc_window_display": true
  }
 },
 "nbformat": 4,
 "nbformat_minor": 5
}
