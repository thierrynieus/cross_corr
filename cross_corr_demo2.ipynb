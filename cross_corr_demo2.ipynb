{
 "cells": [
  {
   "cell_type": "markdown",
   "id": "2beb76ba",
   "metadata": {},
   "source": [
    "\n",
    "<font size=\"12\">**Spike cross-correlation demo**</font>"
   ]
  },
  {
   "cell_type": "markdown",
   "id": "005ced9a",
   "metadata": {},
   "source": [
    "The Spike cross-correlation script has been developed during my research work. If you use it in your work, please cite the following works.\n",
    "\n",
    "References: \n",
    "\n",
    "    1. Garofalo, M., Nieus, T., Massobrio, P., and Martinoia, S. (2009). Evaluation of the Performance of Information Theory-Based Methods and Cross-Correlation to Estimate the Functional Connectivity in Cortical Networks. PLoS ONE 4, e6482. doi: 10.1371/journal.pone.0006482.\n",
    "    \n",
    "    2. Nieus, T., D’Andrea, V., Amin, H., Di Marco, S., Safaai, H., Maccione, A., et al. (2018). State-dependent representation of stimulus-evoked activity in high-density recordings of neural cultures. Sci Rep 8, 5578. doi: 10.1038/s41598-018-23853-x."
   ]
  },
  {
   "cell_type": "code",
   "execution_count": 1,
   "id": "12e7a3e1",
   "metadata": {},
   "outputs": [],
   "source": [
    "import numpy as np\n",
    "import pylab as plt"
   ]
  },
  {
   "cell_type": "code",
   "execution_count": 2,
   "id": "4557f60c",
   "metadata": {},
   "outputs": [],
   "source": [
    "import spike_cross_corr as scc"
   ]
  },
  {
   "cell_type": "markdown",
   "id": "b378a943",
   "metadata": {},
   "source": [
    "# Load data and perform some preliminary analysis"
   ]
  },
  {
   "cell_type": "code",
   "execution_count": 3,
   "id": "d729de68",
   "metadata": {},
   "outputs": [],
   "source": [
    "# get the data from the web ... \n",
    "import os\n",
    "if not(os.path.isdir('data')):\n",
    "    print(\"Folder <<data>> created!\")\n",
    "    os.makedirs('data')\n",
    "if not(os.path.isfile('data/data.npy')):\n",
    "    print(\"Transfer data.npy!\")\n",
    "    str_get = \"https://unimi2013-my.sharepoint.com/:u:/g/personal/thierry_nieus_unimi_it/EYxkNBwY_LNNvaYMNoYQMOMBm0EBC-hHMdMMs23KfSVTLg?e=NHjjXA&download=1\"\n",
    "    os.system(\"wget --no-check-certificate \\\"%s\\\" -q -O data/data.npy\" % str_get)\n",
    "fn = 'data/data.npy'"
   ]
  },
  {
   "cell_type": "code",
   "execution_count": 4,
   "id": "2ed88f19",
   "metadata": {},
   "outputs": [
    {
     "name": "stdout",
     "output_type": "stream",
     "text": [
      "793 spike trains loaded \n",
      "max time of recording (s) 565.398 \n"
     ]
    }
   ],
   "source": [
    "spk_trains_tmp, id_ch_tmp, tmax = scc.load_data(fn)\n",
    "tmax /= 1000 # tmax in seconds\n",
    "print('%d spike trains loaded ' % len(spk_trains_tmp))\n",
    "print('max time of recording (s) %g ' %tmax)"
   ]
  },
  {
   "cell_type": "markdown",
   "id": "9f461c08",
   "metadata": {},
   "source": [
    "## Filter data."
   ]
  },
  {
   "cell_type": "code",
   "execution_count": 5,
   "id": "b9062ac2",
   "metadata": {},
   "outputs": [
    {
     "name": "stdout",
     "output_type": "stream",
     "text": [
      "793 spike trains retained \n"
     ]
    }
   ],
   "source": [
    "mfr_min = 0.1 # Hz\n",
    "spk_trains, id_ch = [], []\n",
    "mfr_lst = []\n",
    "for st, ic in zip(spk_trains_tmp, id_ch_tmp):\n",
    "    mfr = len(st) / tmax  # Hz    \n",
    "    if mfr > mfr_min:\n",
    "        # spike train has enough spikes\n",
    "        spk_trains.append(st)\n",
    "        id_ch.append(ic)\n",
    "        mfr_lst.append(mfr)\n",
    "print('%d spike trains retained ' % len(spk_trains))        "
   ]
  },
  {
   "cell_type": "markdown",
   "id": "90bcb498",
   "metadata": {},
   "source": [
    "## Report distribution of mean firing rates."
   ]
  },
  {
   "cell_type": "code",
   "execution_count": 6,
   "id": "78ce5a33",
   "metadata": {},
   "outputs": [
    {
     "data": {
      "image/png": "[encoded data removed]",
      "text/plain": [
       "<Figure size 432x288 with 1 Axes>"
      ]
     },
     "metadata": {
      "needs_background": "light"
     },
     "output_type": "display_data"
    }
   ],
   "source": [
    "plt.boxplot(mfr_lst, whis=[5, 95])\n",
    "plt.xticks([])\n",
    "plt.ylabel('mean firing rate (Hz)', fontsize=12);"
   ]
  },
  {
   "cell_type": "markdown",
   "id": "a833f7f8",
   "metadata": {},
   "source": [
    "# Compute spike cross-correlation"
   ]
  },
  {
   "cell_type": "code",
   "execution_count": 7,
   "id": "782d4881",
   "metadata": {},
   "outputs": [],
   "source": [
    "# Format data to run cross-correlation procedure.\n",
    "idx_spk_tr, len_spk_tr = scc.format_spike_train(spk_trains)"
   ]
  },
  {
   "cell_type": "code",
   "execution_count": 8,
   "id": "0b08eb77",
   "metadata": {},
   "outputs": [
    {
     "name": "stdout",
     "output_type": "stream",
     "text": [
      "cross-corr computed in 162.278 seconds\n"
     ]
    }
   ],
   "source": [
    "n_jobs = 4\n",
    "cc_lst, idx_sd, tcc = scc.run_cross_par(idx_spk_tr, len_spk_tr, n_jobs=n_jobs)"
   ]
  },
  {
   "cell_type": "markdown",
   "id": "9e640b11",
   "metadata": {},
   "source": [
    "## Analyze the correlations"
   ]
  },
  {
   "cell_type": "code",
   "execution_count": 9,
   "id": "ea4ff147",
   "metadata": {},
   "outputs": [],
   "source": [
    "# Define some useful functions\n",
    "def get_row_col(id_ch):\n",
    "    \"\"\"Return row and column of channel id_ch.\"\"\"\n",
    "    row = id_ch // 64\n",
    "    col = id_ch % 64    \n",
    "    return row, col\n",
    "\n",
    "def chan_dist(rc_src, rc_dst):\n",
    "    \"\"\"Compute distance between two channels/electrodes.\"\"\"\n",
    "    pitch = 80 # um\n",
    "    d2 = (rc_src[0] - rc_dst[0])**2 + (rc_src[1] - rc_dst[1])**2\n",
    "    d = np.sqrt(d2) * pitch\n",
    "    return d"
   ]
  },
  {
   "cell_type": "code",
   "execution_count": 10,
   "id": "d7405bfa",
   "metadata": {},
   "outputs": [],
   "source": [
    "dout = {}\n",
    "keys = ['cc-peak', 'cc-peak-time-lag (ms)', 'distance (um)', 'velocity (mm/s)']\n",
    "for key in keys:\n",
    "    dout[key] = []\n",
    "\n",
    "for k, cc in enumerate(cc_lst):\n",
    "    # cc-max\n",
    "    cc_max = np.max(cc)\n",
    "    idx_max = np.argmax(cc)\n",
    "    t_peak = tcc[idx_max]\n",
    "    # distance\n",
    "    idx_src, idx_dst = idx_sd[k]\n",
    "    rc_src = get_row_col(id_ch[idx_src])\n",
    "    rc_dst = get_row_col(id_ch[idx_dst])\n",
    "    dist = chan_dist(rc_src, rc_dst)\n",
    "    # velocity\n",
    "    if t_peak:\n",
    "        vel = dist / t_peak  # um / ms = mm/s\n",
    "    else:\n",
    "        vel = 1e10\n",
    "    # store results\n",
    "    dout['cc-peak'].append(cc_max)\n",
    "    dout['cc-peak-time-lag (ms)'].append(t_peak)\n",
    "    dout['distance (um)'].append(dist)\n",
    "    dout['velocity (mm/s)'].append(abs(vel))"
   ]
  },
  {
   "cell_type": "code",
   "execution_count": 11,
   "id": "6cea6d2d",
   "metadata": {},
   "outputs": [
    {
     "data": {
      "text/html": [
       "<div>\n",
       "<style scoped>\n",
       "    .dataframe tbody tr th:only-of-type {\n",
       "        vertical-align: middle;\n",
       "    }\n",
       "\n",
       "    .dataframe tbody tr th {\n",
       "        vertical-align: top;\n",
       "    }\n",
       "\n",
       "    .dataframe thead th {\n",
       "        text-align: right;\n",
       "    }\n",
       "</style>\n",
       "<table border=\"1\" class=\"dataframe\">\n",
       "  <thead>\n",
       "    <tr style=\"text-align: right;\">\n",
       "      <th></th>\n",
       "      <th>cc-peak</th>\n",
       "      <th>cc-peak-time-lag (ms)</th>\n",
       "      <th>distance (um)</th>\n",
       "      <th>velocity (mm/s)</th>\n",
       "    </tr>\n",
       "  </thead>\n",
       "  <tbody>\n",
       "    <tr>\n",
       "      <th>83193</th>\n",
       "      <td>0.393688</td>\n",
       "      <td>0.0</td>\n",
       "      <td>80.000000</td>\n",
       "      <td>1.000000e+10</td>\n",
       "    </tr>\n",
       "    <tr>\n",
       "      <th>303443</th>\n",
       "      <td>0.393072</td>\n",
       "      <td>0.5</td>\n",
       "      <td>80.000000</td>\n",
       "      <td>1.600000e+02</td>\n",
       "    </tr>\n",
       "    <tr>\n",
       "      <th>130770</th>\n",
       "      <td>0.233971</td>\n",
       "      <td>1.5</td>\n",
       "      <td>252.982213</td>\n",
       "      <td>1.686548e+02</td>\n",
       "    </tr>\n",
       "    <tr>\n",
       "      <th>139738</th>\n",
       "      <td>0.232833</td>\n",
       "      <td>-0.5</td>\n",
       "      <td>288.444102</td>\n",
       "      <td>5.768882e+02</td>\n",
       "    </tr>\n",
       "    <tr>\n",
       "      <th>202417</th>\n",
       "      <td>0.134928</td>\n",
       "      <td>0.0</td>\n",
       "      <td>80.000000</td>\n",
       "      <td>1.000000e+10</td>\n",
       "    </tr>\n",
       "    <tr>\n",
       "      <th>44307</th>\n",
       "      <td>0.133242</td>\n",
       "      <td>0.5</td>\n",
       "      <td>288.444102</td>\n",
       "      <td>5.768882e+02</td>\n",
       "    </tr>\n",
       "    <tr>\n",
       "      <th>84551</th>\n",
       "      <td>0.132200</td>\n",
       "      <td>-2.5</td>\n",
       "      <td>4882.622246</td>\n",
       "      <td>1.953049e+03</td>\n",
       "    </tr>\n",
       "    <tr>\n",
       "      <th>202889</th>\n",
       "      <td>0.126762</td>\n",
       "      <td>0.0</td>\n",
       "      <td>80.000000</td>\n",
       "      <td>1.000000e+10</td>\n",
       "    </tr>\n",
       "    <tr>\n",
       "      <th>233440</th>\n",
       "      <td>0.124308</td>\n",
       "      <td>0.0</td>\n",
       "      <td>80.000000</td>\n",
       "      <td>1.000000e+10</td>\n",
       "    </tr>\n",
       "    <tr>\n",
       "      <th>151876</th>\n",
       "      <td>0.123967</td>\n",
       "      <td>0.0</td>\n",
       "      <td>80.000000</td>\n",
       "      <td>1.000000e+10</td>\n",
       "    </tr>\n",
       "    <tr>\n",
       "      <th>225636</th>\n",
       "      <td>0.118173</td>\n",
       "      <td>0.0</td>\n",
       "      <td>80.000000</td>\n",
       "      <td>1.000000e+10</td>\n",
       "    </tr>\n",
       "    <tr>\n",
       "      <th>217448</th>\n",
       "      <td>0.116482</td>\n",
       "      <td>0.0</td>\n",
       "      <td>80.000000</td>\n",
       "      <td>1.000000e+10</td>\n",
       "    </tr>\n",
       "    <tr>\n",
       "      <th>211211</th>\n",
       "      <td>0.112668</td>\n",
       "      <td>0.0</td>\n",
       "      <td>80.000000</td>\n",
       "      <td>1.000000e+10</td>\n",
       "    </tr>\n",
       "    <tr>\n",
       "      <th>217465</th>\n",
       "      <td>0.109528</td>\n",
       "      <td>0.0</td>\n",
       "      <td>80.000000</td>\n",
       "      <td>1.000000e+10</td>\n",
       "    </tr>\n",
       "    <tr>\n",
       "      <th>55209</th>\n",
       "      <td>0.108382</td>\n",
       "      <td>-0.5</td>\n",
       "      <td>160.000000</td>\n",
       "      <td>3.200000e+02</td>\n",
       "    </tr>\n",
       "    <tr>\n",
       "      <th>225236</th>\n",
       "      <td>0.100650</td>\n",
       "      <td>0.0</td>\n",
       "      <td>252.982213</td>\n",
       "      <td>1.000000e+10</td>\n",
       "    </tr>\n",
       "    <tr>\n",
       "      <th>146187</th>\n",
       "      <td>0.100296</td>\n",
       "      <td>-0.5</td>\n",
       "      <td>329.848450</td>\n",
       "      <td>6.596969e+02</td>\n",
       "    </tr>\n",
       "    <tr>\n",
       "      <th>232230</th>\n",
       "      <td>0.100277</td>\n",
       "      <td>0.0</td>\n",
       "      <td>80.000000</td>\n",
       "      <td>1.000000e+10</td>\n",
       "    </tr>\n",
       "    <tr>\n",
       "      <th>44320</th>\n",
       "      <td>0.100149</td>\n",
       "      <td>1.0</td>\n",
       "      <td>339.411255</td>\n",
       "      <td>3.394113e+02</td>\n",
       "    </tr>\n",
       "    <tr>\n",
       "      <th>31679</th>\n",
       "      <td>0.099045</td>\n",
       "      <td>-2.0</td>\n",
       "      <td>226.274170</td>\n",
       "      <td>1.131371e+02</td>\n",
       "    </tr>\n",
       "  </tbody>\n",
       "</table>\n",
       "</div>"
      ],
      "text/plain": [
       "         cc-peak  cc-peak-time-lag (ms)  distance (um)  velocity (mm/s)\n",
       "83193   0.393688                    0.0      80.000000     1.000000e+10\n",
       "303443  0.393072                    0.5      80.000000     1.600000e+02\n",
       "130770  0.233971                    1.5     252.982213     1.686548e+02\n",
       "139738  0.232833                   -0.5     288.444102     5.768882e+02\n",
       "202417  0.134928                    0.0      80.000000     1.000000e+10\n",
       "44307   0.133242                    0.5     288.444102     5.768882e+02\n",
       "84551   0.132200                   -2.5    4882.622246     1.953049e+03\n",
       "202889  0.126762                    0.0      80.000000     1.000000e+10\n",
       "233440  0.124308                    0.0      80.000000     1.000000e+10\n",
       "151876  0.123967                    0.0      80.000000     1.000000e+10\n",
       "225636  0.118173                    0.0      80.000000     1.000000e+10\n",
       "217448  0.116482                    0.0      80.000000     1.000000e+10\n",
       "211211  0.112668                    0.0      80.000000     1.000000e+10\n",
       "217465  0.109528                    0.0      80.000000     1.000000e+10\n",
       "55209   0.108382                   -0.5     160.000000     3.200000e+02\n",
       "225236  0.100650                    0.0     252.982213     1.000000e+10\n",
       "146187  0.100296                   -0.5     329.848450     6.596969e+02\n",
       "232230  0.100277                    0.0      80.000000     1.000000e+10\n",
       "44320   0.100149                    1.0     339.411255     3.394113e+02\n",
       "31679   0.099045                   -2.0     226.274170     1.131371e+02"
      ]
     },
     "execution_count": 11,
     "metadata": {},
     "output_type": "execute_result"
    }
   ],
   "source": [
    "# define data frame and rank it based on the spike cross-correlation values (from highest to lowest)\n",
    "import pandas as pd\n",
    "df = pd.DataFrame(dout)\n",
    "df.sort_values('cc-peak', ascending=False, inplace=True)\n",
    "df.head(n=20)"
   ]
  },
  {
   "cell_type": "code",
   "execution_count": 12,
   "id": "88375e73",
   "metadata": {},
   "outputs": [
    {
     "name": "stderr",
     "output_type": "stream",
     "text": [
      "/home/tnieus/anaconda3/lib/python3.9/site-packages/scipy/__init__.py:146: UserWarning: A NumPy version >=1.16.5 and <1.23.0 is required for this version of SciPy (detected version 1.24.4\n",
      "  warnings.warn(f\"A NumPy version >={np_minversion} and <{np_maxversion}\"\n"
     ]
    },
    {
     "name": "stdout",
     "output_type": "stream",
     "text": [
      "cross-corr computed in 4.73 seconds \n",
      "\n"
     ]
    }
   ],
   "source": [
    "ccmat = scc.calc_cc_sp(idx_spk_tr, len_spk_tr, scc.params)"
   ]
  },
  {
   "cell_type": "code",
   "execution_count": 13,
   "id": "0b962d3b",
   "metadata": {},
   "outputs": [
    {
     "name": "stdout",
     "output_type": "stream",
     "text": [
      "Max absolute difference between the two algorithms = 0.000146434 \n"
     ]
    }
   ],
   "source": [
    "idx_to_sel = np.triu_indices(len(len_spk_tr), k = 1)\n",
    "\n",
    "ccpeaks = ccmat.max(axis=0)[idx_to_sel]\n",
    "ccpeaks_sort = np.sort(ccpeaks)[::-1]\n",
    "print('Max absolute difference between the two algorithms = %g ' % np.max(np.abs(df['cc-peak'].to_numpy()-ccpeaks_sort)))"
   ]
  },
  {
   "cell_type": "code",
   "execution_count": null,
   "id": "374cdfa2",
   "metadata": {},
   "outputs": [],
   "source": []
  }
 ],
 "metadata": {
  "hide_input": false,
  "kernelspec": {
   "display_name": "Python 3 (ipykernel)",
   "language": "python",
   "name": "python3"
  },
  "language_info": {
   "codemirror_mode": {
    "name": "ipython",
    "version": 3
   },
   "file_extension": ".py",
   "mimetype": "text/x-python",
   "name": "python",
   "nbconvert_exporter": "python",
   "pygments_lexer": "ipython3",
   "version": "3.9.7"
  },
  "toc": {
   "base_numbering": 1,
   "nav_menu": {},
   "number_sections": true,
   "sideBar": true,
   "skip_h1_title": false,
   "title_cell": "Table of Contents",
   "title_sidebar": "Contents",
   "toc_cell": false,
   "toc_position": {},
   "toc_section_display": true,
   "toc_window_display": true
  }
 },
 "nbformat": 4,
 "nbformat_minor": 5
}
