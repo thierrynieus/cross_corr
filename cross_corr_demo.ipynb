{
 "cells": [
  {
   "cell_type": "markdown",
   "id": "2beb76ba",
   "metadata": {},
   "source": [
    "\n",
    "<font size=\"12\">**Spike cross-correlation demo**</font>"
   ]
  },
  {
   "cell_type": "markdown",
   "id": "005ced9a",
   "metadata": {},
   "source": [
    "Intro ... what paper to cite\n",
    "\n",
    "\n",
    "References: \n",
    "\n",
    "    1. Garofalo, M., Nieus, T., Massobrio, P., and Martinoia, S. (2009). Evaluation of the Performance of Information Theory-Based Methods and Cross-Correlation to Estimate the Functional Connectivity in Cortical Networks. PLoS ONE 4, e6482. doi: 10.1371/journal.pone.0006482.\n",
    "    \n",
    "    2. Nieus, T., D’Andrea, V., Amin, H., Di Marco, S., Safaai, H., Maccione, A., et al. (2018). State-dependent representation of stimulus-evoked activity in high-density recordings of neural cultures. Sci Rep 8, 5578. doi: 10.1038/s41598-018-23853-x."
   ]
  },
  {
   "cell_type": "code",
   "execution_count": 4,
   "id": "12e7a3e1",
   "metadata": {},
   "outputs": [],
   "source": [
    "import numpy as np\n",
    "import pylab as plt"
   ]
  },
  {
   "cell_type": "code",
   "execution_count": 5,
   "id": "4557f60c",
   "metadata": {},
   "outputs": [],
   "source": [
    "import spike_cross_corr as scc"
   ]
  },
  {
   "cell_type": "code",
   "execution_count": 6,
   "id": "2ed88f19",
   "metadata": {},
   "outputs": [
    {
     "name": "stdout",
     "output_type": "stream",
     "text": [
      "793 spike trains loaded \n",
      "max time of recording (s) 565.398 \n"
     ]
    }
   ],
   "source": [
    "fn = 'data/data.npy'\n",
    "spk_trains_tmp, id_ch_tmp, tmax = scc.load_data(fn)\n",
    "tmax /= 1000 # tmax in seconds\n",
    "print('%d spike trains loaded ' % len(spk_trains_tmp))\n",
    "print('max time of recording (s) %g ' %tmax)"
   ]
  },
  {
   "cell_type": "markdown",
   "id": "9f461c08",
   "metadata": {},
   "source": [
    "Perform some filtering of the data."
   ]
  },
  {
   "cell_type": "code",
   "execution_count": 7,
   "id": "b9062ac2",
   "metadata": {},
   "outputs": [
    {
     "name": "stdout",
     "output_type": "stream",
     "text": [
      "793 spike trains retained \n"
     ]
    }
   ],
   "source": [
    "mfr_min = 0.1 # Hz\n",
    "spk_trains, id_ch = [], []\n",
    "mfr_lst = []\n",
    "for st, ic in zip(spk_trains_tmp, id_ch_tmp):\n",
    "    mfr = len(st) / tmax  # Hz    \n",
    "    if mfr > mfr_min:\n",
    "        # spike train has enough spikes\n",
    "        spk_trains.append(st)\n",
    "        id_ch.append(ic)\n",
    "        mfr_lst.append(mfr)\n",
    "print('%d spike trains retained ' % len(spk_trains))        "
   ]
  },
  {
   "cell_type": "markdown",
   "id": "90bcb498",
   "metadata": {},
   "source": [
    "Visualize the distribution of mean firing rates."
   ]
  },
  {
   "cell_type": "code",
   "execution_count": 8,
   "id": "78ce5a33",
   "metadata": {},
   "outputs": [
    {
     "data": {
      "image/png": "[encoded data removed]",
      "text/plain": [
       "<Figure size 432x288 with 1 Axes>"
      ]
     },
     "metadata": {
      "needs_background": "light"
     },
     "output_type": "display_data"
    }
   ],
   "source": [
    "plt.boxplot(mfr_lst, whis=[5, 95])\n",
    "plt.xticks([])\n",
    "plt.ylabel('mean firing rate (Hz)', fontsize=12);"
   ]
  },
  {
   "cell_type": "markdown",
   "id": "a833f7f8",
   "metadata": {},
   "source": [
    "Format data to run cross-correlation procedure."
   ]
  },
  {
   "cell_type": "code",
   "execution_count": 9,
   "id": "782d4881",
   "metadata": {},
   "outputs": [],
   "source": [
    "idx_spk_tr, len_spk_tr = scc.format_spike_train(spk_trains)"
   ]
  },
  {
   "cell_type": "markdown",
   "id": "0f62e358",
   "metadata": {},
   "source": [
    "Compute spike cross-correlation."
   ]
  },
  {
   "cell_type": "code",
   "execution_count": 10,
   "id": "0b08eb77",
   "metadata": {},
   "outputs": [
    {
     "name": "stdout",
     "output_type": "stream",
     "text": [
      "cross-corr computed in 100.175 seconds\n"
     ]
    }
   ],
   "source": [
    "n_jobs = 4\n",
    "cc_lst, idx_sd, tcc = scc.run_cross_par(idx_spk_tr, len_spk_tr, n_jobs=n_jobs)"
   ]
  },
  {
   "cell_type": "markdown",
   "id": "9e640b11",
   "metadata": {},
   "source": [
    "Select the highest correlations"
   ]
  },
  {
   "cell_type": "code",
   "execution_count": 95,
   "id": "d7405bfa",
   "metadata": {},
   "outputs": [],
   "source": [
    "cc_max = np.zeros(len(cc_lst))\n",
    "for k, cc in enumerate(cc_lst):\n",
    "    cc_max[k] = np.max(cc)\n",
    "idx_above = np.where(cc_max > 0.075)[0]"
   ]
  },
  {
   "cell_type": "code",
   "execution_count": 114,
   "id": "4f0ad970",
   "metadata": {},
   "outputs": [
    {
     "name": "stdout",
     "output_type": "stream",
     "text": [
      "210758\n"
     ]
    }
   ],
   "source": [
    "idx_choose = np.random.choice(idx_above)\n",
    "print(idx_choose)\n",
    "# 139738, 84551, 138519, 217903"
   ]
  },
  {
   "cell_type": "code",
   "execution_count": 115,
   "id": "6ff5297b",
   "metadata": {},
   "outputs": [
    {
     "data": {
      "image/png": "[encoded data removed]",
      "text/plain": [
       "<Figure size 432x288 with 1 Axes>"
      ]
     },
     "metadata": {
      "needs_background": "light"
     },
     "output_type": "display_data"
    }
   ],
   "source": [
    "plt.plot(tcc, cc_lst[idx_choose], c='k', lw=2)\n",
    "src, dst = idx_sd[idx_choose]\n",
    "plt.title('%d -> %d' % (src, dst), fontsize=14)\n",
    "plt.grid()\n",
    "plt.xticks(fontsize=12)\n",
    "plt.yticks(fontsize=12)\n",
    "plt.xlabel('time lag (ms)', fontsize=14)\n",
    "plt.ylabel('cross correlation', fontsize=14);"
   ]
  },
  {
   "cell_type": "code",
   "execution_count": 116,
   "id": "f4453fb8",
   "metadata": {},
   "outputs": [],
   "source": [
    "idx_max = np.argmax(cc_lst[idx_choose])\n",
    "t_peak = tcc[idx_max]"
   ]
  },
  {
   "cell_type": "markdown",
   "id": "07925323",
   "metadata": {},
   "source": [
    "Compute cross-ISI"
   ]
  },
  {
   "cell_type": "code",
   "execution_count": 117,
   "id": "7541799d",
   "metadata": {},
   "outputs": [],
   "source": [
    "src, dst = idx_sd[idx_choose]"
   ]
  },
  {
   "cell_type": "code",
   "execution_count": 118,
   "id": "1773ed39",
   "metadata": {},
   "outputs": [
    {
     "data": {
      "text/plain": [
       "201"
      ]
     },
     "execution_count": 118,
     "metadata": {},
     "output_type": "execute_result"
    }
   ],
   "source": [
    "len(spk_trains[src])"
   ]
  },
  {
   "cell_type": "code",
   "execution_count": 119,
   "id": "f81d3ed5",
   "metadata": {},
   "outputs": [],
   "source": [
    "tw = scc.params['tw']\n",
    "spk_src = spk_trains[src]\n",
    "spk_dst = spk_trains[dst]\n",
    "cross_isi = []\n",
    "for t_src in spk_src:   \n",
    "    idx = np.where((spk_dst > (t_src - tw)) & (spk_dst < (t_src + tw)))[0]\n",
    "    c_isi = spk_dst[idx] - t_src\n",
    "    cross_isi.extend(c_isi)"
   ]
  },
  {
   "cell_type": "code",
   "execution_count": 120,
   "id": "27e2db05",
   "metadata": {},
   "outputs": [
    {
     "data": {
      "image/png": "[encoded data removed]",
      "text/plain": [
       "<Figure size 432x288 with 1 Axes>"
      ]
     },
     "metadata": {
      "needs_background": "light"
     },
     "output_type": "display_data"
    }
   ],
   "source": [
    "bins = np.arange(-tw, tw, scc.params['dt'])\n",
    "h = np.histogram(cross_isi, bins=bins)\n",
    "freq = h[0] / np.sum(h[0])\n",
    "plt.plot(h[1][:-1], freq, 'k-', lw=2, label='cross isi')\n",
    "plt.plot(tcc, cc_lst[idx_choose], c='r', lw=1, label='cross corr')\n",
    "plt.legend(loc=0, fontsize=12)\n",
    "plt.grid()\n",
    "plt.xticks(fontsize=12)\n",
    "plt.yticks(fontsize=12)\n",
    "plt.xlabel('time lag (ms)', fontsize=14);"
   ]
  },
  {
   "cell_type": "markdown",
   "id": "9f7b9f28",
   "metadata": {},
   "source": [
    "Find rows, columns of the two channels !"
   ]
  },
  {
   "cell_type": "code",
   "execution_count": 121,
   "id": "33a8c57a",
   "metadata": {},
   "outputs": [],
   "source": [
    "def get_row_col(id_ch):\n",
    "    \"\"\"Return row and column of channel id_ch.\"\"\"\n",
    "    row = id_ch // 64\n",
    "    col = id_ch % 64    \n",
    "    return row, col\n",
    "\n",
    "def chan_dist(rc_src, rc_dst):\n",
    "    \"\"\"Compute distance between two channels/electrodes.\"\"\"\n",
    "    pitch = 80 # um\n",
    "    d2 = (rc_src[0] - rc_dst[0])**2 + (rc_src[1] - rc_dst[1])**2\n",
    "    d = np.sqrt(d2) * pitch\n",
    "    return d"
   ]
  },
  {
   "cell_type": "code",
   "execution_count": 122,
   "id": "9a1429c5",
   "metadata": {},
   "outputs": [
    {
     "name": "stdout",
     "output_type": "stream",
     "text": [
      "(20.0, 21.0) (21.0, 22.0) 113.13708498984761\n",
      "Velocity is 226.3 (mm/s)\n"
     ]
    }
   ],
   "source": [
    "rc_src = get_row_col(id_ch[src])\n",
    "rc_dst = get_row_col(id_ch[dst])\n",
    "dist = chan_dist(rc_src, rc_dst)\n",
    "print(rc_src, rc_dst, dist)\n",
    "if t_peak:\n",
    "    vel = dist / t_peak  # um / ms = mm/s\n",
    "    print('Velocity is %g (mm/s)' %vel.round(1))"
   ]
  },
  {
   "cell_type": "code",
   "execution_count": 123,
   "id": "06991331",
   "metadata": {},
   "outputs": [],
   "source": [
    " # report the strongest 10 functional links"
   ]
  },
  {
   "cell_type": "code",
   "execution_count": null,
   "id": "f90978a6",
   "metadata": {},
   "outputs": [],
   "source": []
  }
 ],
 "metadata": {
  "hide_input": false,
  "kernelspec": {
   "display_name": "Python 3 (ipykernel)",
   "language": "python",
   "name": "python3"
  },
  "language_info": {
   "codemirror_mode": {
    "name": "ipython",
    "version": 3
   },
   "file_extension": ".py",
   "mimetype": "text/x-python",
   "name": "python",
   "nbconvert_exporter": "python",
   "pygments_lexer": "ipython3",
   "version": "3.9.7"
  },
  "toc": {
   "base_numbering": 1,
   "nav_menu": {},
   "number_sections": true,
   "sideBar": true,
   "skip_h1_title": false,
   "title_cell": "Table of Contents",
   "title_sidebar": "Contents",
   "toc_cell": false,
   "toc_position": {},
   "toc_section_display": true,
   "toc_window_display": false
  }
 },
 "nbformat": 4,
 "nbformat_minor": 5
}
